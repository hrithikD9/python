{
 "cells": [
  {
   "cell_type": "code",
   "execution_count": 1,
   "metadata": {
    "id": "r1YOuPk9po-h"
   },
   "outputs": [],
   "source": [
    "import math"
   ]
  },
  {
   "cell_type": "code",
   "execution_count": 2,
   "metadata": {
    "id": "9KtRihxSB8LV"
   },
   "outputs": [],
   "source": [
    "def f(x):\n",
    "  return math.exp(-1*x) - x"
   ]
  },
  {
   "cell_type": "code",
   "execution_count": 3,
   "metadata": {
    "id": "AIknsTLEnjJp"
   },
   "outputs": [],
   "source": [
    "def secant(xi_1, xi):\n",
    "  return (xi - (f(xi)*(xi_1-xi))/(f(xi_1)-f(xi)))  #Secant"
   ]
  },
  {
   "cell_type": "code",
   "execution_count": 4,
   "metadata": {
    "colab": {
     "base_uri": "https://localhost:8080/"
    },
    "id": "PP-Gv5AcoEO1",
    "outputId": "c7d7f782-40c0-4ea7-d893-af834f1f1fea"
   },
   "outputs": [
    {
     "name": "stdout",
     "output_type": "stream",
     "text": [
      "0.6126998367802821\n"
     ]
    }
   ],
   "source": [
    "xi_1 = 0\n",
    "xi = 1\n",
    "xnew = secant(xi_1, xi)\n",
    "print(xnew)"
   ]
  },
  {
   "cell_type": "code",
   "execution_count": 5,
   "metadata": {
    "colab": {
     "base_uri": "https://localhost:8080/"
    },
    "id": "qW6QQv4WoaRW",
    "outputId": "9c526632-adc0-4641-acdf-a125c3ae3ec4"
   },
   "outputs": [
    {
     "name": "stdout",
     "output_type": "stream",
     "text": [
      "0.6126998367802821 --- 8.665860388099505\n",
      "0.5638383891610742 --- 0.5874723897690938\n",
      "0.5671703584197446 --- 0.004769837617107992\n"
     ]
    }
   ],
   "source": [
    "es = 0.1\n",
    "ea = 1\n",
    "\n",
    "while ea > es:\n",
    "  xi_1 = xi\n",
    "  xi = xnew\n",
    "  xnew = secant(xi_1,xi)\n",
    "  ea = (xnew - xi)/xnew * 100\n",
    "  ea = abs(ea)\n",
    "  print(xi,'---', ea)\n",
    "\n"
   ]
  }
 ],
 "metadata": {
  "colab": {
   "provenance": []
  },
  "kernelspec": {
   "display_name": "Python 3",
   "name": "python3"
  },
  "language_info": {
   "codemirror_mode": {
    "name": "ipython",
    "version": 3
   },
   "file_extension": ".py",
   "mimetype": "text/x-python",
   "name": "python",
   "nbconvert_exporter": "python",
   "pygments_lexer": "ipython3",
   "version": "3.12.6"
  }
 },
 "nbformat": 4,
 "nbformat_minor": 0
}
