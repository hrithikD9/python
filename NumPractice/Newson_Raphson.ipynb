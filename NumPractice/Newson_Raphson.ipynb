{
  "nbformat": 4,
  "nbformat_minor": 0,
  "metadata": {
    "colab": {
      "provenance": []
    },
    "kernelspec": {
      "name": "python3",
      "display_name": "Python 3"
    },
    "language_info": {
      "name": "python"
    }
  },
  "cells": [
    {
      "cell_type": "code",
      "source": [
        "import math"
      ],
      "metadata": {
        "id": "r1YOuPk9po-h"
      },
      "execution_count": 62,
      "outputs": []
    },
    {
      "cell_type": "code",
      "execution_count": 67,
      "metadata": {
        "id": "AIknsTLEnjJp"
      },
      "outputs": [],
      "source": [
        "def f(xi):\n",
        "  #return math.exp(-1*x)\n",
        "  return (xi - (math.exp(-1*xi) - xi)/(-math.exp(-1*xi) - 1))"
      ]
    },
    {
      "cell_type": "code",
      "source": [
        "xi = 0\n",
        "xnew = f(xi)\n",
        "print(xnew)"
      ],
      "metadata": {
        "colab": {
          "base_uri": "https://localhost:8080/"
        },
        "id": "PP-Gv5AcoEO1",
        "outputId": "114c6ed2-8bf1-4298-ed6e-a932cf63fcbb"
      },
      "execution_count": 70,
      "outputs": [
        {
          "output_type": "stream",
          "name": "stdout",
          "text": [
            "0.5\n"
          ]
        }
      ]
    },
    {
      "cell_type": "code",
      "source": [
        "es = 0.1\n",
        "ea = 1\n",
        "\n",
        "while ea > es:\n",
        "  xi = xnew\n",
        "  xnew = f(xi)\n",
        "  ea = (xnew - xi)/xnew * 100\n",
        "  ea = abs(ea)\n",
        "  print(xi,'---', ea)\n",
        "\n"
      ],
      "metadata": {
        "colab": {
          "base_uri": "https://localhost:8080/"
        },
        "id": "qW6QQv4WoaRW",
        "outputId": "d5b7665f-0f58-4da8-c8c8-a7af06e1e939"
      },
      "execution_count": 71,
      "outputs": [
        {
          "output_type": "stream",
          "name": "stdout",
          "text": [
            "0.5 --- 11.709290976662396\n",
            "0.5663110031972182 --- 0.14672870783743905\n",
            "0.5671431650348622 --- 2.2106391984397623e-05\n"
          ]
        }
      ]
    }
  ]
}