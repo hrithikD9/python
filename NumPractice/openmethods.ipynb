{
  "nbformat": 4,
  "nbformat_minor": 0,
  "metadata": {
    "colab": {
      "provenance": []
    },
    "kernelspec": {
      "name": "python3",
      "display_name": "Python 3"
    },
    "language_info": {
      "name": "python"
    }
  },
  "cells": [
    {
      "cell_type": "code",
      "source": [
        "import math"
      ],
      "metadata": {
        "id": "r1YOuPk9po-h"
      },
      "execution_count": 51,
      "outputs": []
    },
    {
      "cell_type": "code",
      "execution_count": 56,
      "metadata": {
        "id": "AIknsTLEnjJp"
      },
      "outputs": [],
      "source": [
        "def f(x):\n",
        "  return math.exp(-1*x)"
      ]
    },
    {
      "cell_type": "code",
      "source": [
        "x = 0\n",
        "xnew = f(x)\n",
        "print(xnew)"
      ],
      "metadata": {
        "colab": {
          "base_uri": "https://localhost:8080/"
        },
        "id": "PP-Gv5AcoEO1",
        "outputId": "f2b91b43-846e-462c-d8c9-0d4273c2cba2"
      },
      "execution_count": 57,
      "outputs": [
        {
          "output_type": "stream",
          "name": "stdout",
          "text": [
            "1.0\n"
          ]
        }
      ]
    },
    {
      "cell_type": "code",
      "source": [
        "es = 0.5\n",
        "ea = 1\n",
        "\n",
        "while ea > es:\n",
        "  x = xnew\n",
        "  xnew = f(x)\n",
        "  ea = (xnew - x)/xnew * 100\n",
        "  ea = abs(ea)\n",
        "  print(xnew,'---', ea)\n",
        "\n"
      ],
      "metadata": {
        "colab": {
          "base_uri": "https://localhost:8080/"
        },
        "id": "qW6QQv4WoaRW",
        "outputId": "1e9c5d9b-a46d-4353-fc4b-d376146a9f47"
      },
      "execution_count": 58,
      "outputs": [
        {
          "output_type": "stream",
          "name": "stdout",
          "text": [
            "0.36787944117144233 --- 171.8281828459045\n",
            "0.6922006275553464 --- 46.85363946133844\n",
            "0.5004735005636368 --- 38.30914659333314\n",
            "0.6062435350855974 --- 17.446789681151248\n",
            "0.545395785975027 --- 11.156622525381316\n",
            "0.5796123355033789 --- 5.9033508144086735\n",
            "0.5601154613610891 --- 3.480866979624528\n",
            "0.571143115080177 --- 1.9308039312598229\n",
            "0.5648793473910495 --- 1.1088682420515694\n",
            "0.5684287250290607 --- 0.6244191191832817\n",
            "0.5664147331468833 --- 0.35556841379956905\n"
          ]
        }
      ]
    }
  ]
}