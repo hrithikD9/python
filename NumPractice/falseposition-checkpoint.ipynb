{
 "cells": [
  {
   "cell_type": "code",
   "execution_count": 107,
   "metadata": {},
   "outputs": [],
   "source": [
    "import math\n",
    "g = 9.81\n",
    "m = 68.1\n",
    "t = 10\n",
    "v = 40"
   ]
  },
  {
   "cell_type": "code",
   "execution_count": 108,
   "metadata": {},
   "outputs": [],
   "source": [
    "def f(c):\n",
    "    return (g*m/c)*(1-math.exp(-1*(c/m*t))) - v              "
   ]
  },
  {
   "cell_type": "code",
   "execution_count": 4,
   "metadata": {},
   "outputs": [
    {
     "ename": "NameError",
     "evalue": "name 'f' is not defined",
     "output_type": "error",
     "traceback": [
      "\u001b[1;31m---------------------------------------------------------------------------\u001b[0m",
      "\u001b[1;31mNameError\u001b[0m                                 Traceback (most recent call last)",
      "Cell \u001b[1;32mIn[4], line 4\u001b[0m\n\u001b[0;32m      2\u001b[0m xl \u001b[38;5;241m=\u001b[39m \u001b[38;5;241m12\u001b[39m\n\u001b[0;32m      3\u001b[0m xu \u001b[38;5;241m=\u001b[39m \u001b[38;5;241m16\u001b[39m\n\u001b[1;32m----> 4\u001b[0m xr \u001b[38;5;241m=\u001b[39m xu \u001b[38;5;241m-\u001b[39m (\u001b[43mf\u001b[49m(xu)\u001b[38;5;241m*\u001b[39m(xl\u001b[38;5;241m-\u001b[39mxu))\u001b[38;5;241m/\u001b[39m(f(xl)\u001b[38;5;241m-\u001b[39mf(xu))\n\u001b[0;32m      5\u001b[0m fxl \u001b[38;5;241m=\u001b[39m f(xl)\n\u001b[0;32m      6\u001b[0m \u001b[38;5;28mprint\u001b[39m(fxl)\n",
      "\u001b[1;31mNameError\u001b[0m: name 'f' is not defined"
     ]
    }
   ],
   "source": [
    "es = 0.5\n",
    "xl = 12\n",
    "xu = 16\n",
    "xr = xu - (f(xu)*(xl-xu))/(f(xl)-f(xu))\n",
    "fxl = f(xl)\n",
    "print(fxl)"
   ]
  },
  {
   "cell_type": "code",
   "execution_count": 5,
   "metadata": {},
   "outputs": [
    {
     "ename": "NameError",
     "evalue": "name 'xr' is not defined",
     "output_type": "error",
     "traceback": [
      "\u001b[1;31m---------------------------------------------------------------------------\u001b[0m",
      "\u001b[1;31mNameError\u001b[0m                                 Traceback (most recent call last)",
      "Cell \u001b[1;32mIn[5], line 3\u001b[0m\n\u001b[0;32m      1\u001b[0m ea \u001b[38;5;241m=\u001b[39m \u001b[38;5;241m1\u001b[39m\n\u001b[0;32m      2\u001b[0m \u001b[38;5;28;01mwhile\u001b[39;00m ea \u001b[38;5;241m>\u001b[39m es:\n\u001b[1;32m----> 3\u001b[0m     xr_old \u001b[38;5;241m=\u001b[39m \u001b[43mxr\u001b[49m\n\u001b[0;32m      4\u001b[0m     fxl \u001b[38;5;241m=\u001b[39m f(xl)\n\u001b[0;32m      5\u001b[0m     fxr \u001b[38;5;241m=\u001b[39m f(xr)\n",
      "\u001b[1;31mNameError\u001b[0m: name 'xr' is not defined"
     ]
    }
   ],
   "source": [
    "ea = 1\n",
    "while ea > es:\n",
    "    xr_old = xr\n",
    "    fxl = f(xl)\n",
    "    fxr = f(xr)\n",
    "    if fxl*fxr < 0:\n",
    "        xu = xr\n",
    "    elif fxl*fxr > 0:\n",
    "        xl = xr\n",
    "    xr = (xl+xu)/2    \n",
    "    ea = abs((xr - xr_old)/xr)*100\n",
    "    print([xr, ea])"
   ]
  }
 ],
 "metadata": {
  "kernelspec": {
   "display_name": "Python 3",
   "language": "python",
   "name": "python3"
  },
  "language_info": {
   "codemirror_mode": {
    "name": "ipython",
    "version": 3
   },
   "file_extension": ".py",
   "mimetype": "text/x-python",
   "name": "python",
   "nbconvert_exporter": "python",
   "pygments_lexer": "ipython3",
   "version": "3.12.6"
  }
 },
 "nbformat": 4,
 "nbformat_minor": 4
}
