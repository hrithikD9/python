{
 "cells": [
  {
   "cell_type": "code",
   "execution_count": 9,
   "metadata": {},
   "outputs": [
    {
     "name": "stdout",
     "output_type": "stream",
     "text": [
      "Hello\n",
      "2.0\n",
      "12.0\n",
      "62.0\n",
      "228.66666666666666\n",
      "645.3333333333334\n",
      "1478.6666666666667\n",
      "2867.5555555555557\n",
      "4851.68253968254\n",
      "7331.84126984127\n",
      "10087.573192239859\n",
      "12843.305114638448\n",
      "15348.51595318262\n",
      "17436.191651969428\n",
      "19042.09603565159\n",
      "20189.170595424563\n",
      "20953.886968606545\n",
      "21431.834701845284\n",
      "21712.980427279836\n",
      "21869.172496965697\n",
      "21951.37884943194\n",
      "21992.482025665064\n",
      "22012.054966728454\n",
      "22020.951758120904\n",
      "22024.819928291534\n",
      "22026.43166586263\n"
     ]
    }
   ],
   "source": [
    "import math\n",
    "print('Hello')\n",
    "y = 1\n",
    "x = 10\n",
    "for i in range(25):\n",
    "    y = y + (x**i)/math.factorial(i)\n",
    "    \n",
    "    \n",
    "    print(y)\n"
   ]
  },
  {
   "cell_type": "markdown",
   "metadata": {},
   "source": []
  },
  {
   "cell_type": "code",
   "execution_count": null,
   "metadata": {},
   "outputs": [],
   "source": []
  }
 ],
 "metadata": {
  "kernelspec": {
   "display_name": "Python 3",
   "language": "python",
   "name": "python3"
  },
  "language_info": {
   "codemirror_mode": {
    "name": "ipython",
    "version": 3
   },
   "file_extension": ".py",
   "mimetype": "text/x-python",
   "name": "python",
   "nbconvert_exporter": "python",
   "pygments_lexer": "ipython3",
   "version": "3.11.9"
  }
 },
 "nbformat": 4,
 "nbformat_minor": 2
}
