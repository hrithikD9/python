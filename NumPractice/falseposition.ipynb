{
 "cells": [
  {
   "cell_type": "code",
   "execution_count": 1,
   "metadata": {},
   "outputs": [],
   "source": [
    "import math\n",
    "g = 9.81\n",
    "m = 68.1\n",
    "t = 10\n",
    "v = 40"
   ]
  },
  {
   "cell_type": "code",
   "execution_count": 2,
   "metadata": {},
   "outputs": [],
   "source": [
    "def f(c):\n",
    "    return (g*m/c)*(1-math.exp(-1*(c/m*t))) - v              "
   ]
  },
  {
   "cell_type": "code",
   "execution_count": 3,
   "metadata": {},
   "outputs": [
    {
     "name": "stdout",
     "output_type": "stream",
     "text": [
      "6.113943075921462\n"
     ]
    }
   ],
   "source": [
    "es = 0.5\n",
    "xl = 12\n",
    "xu = 16\n",
    "xr = xu - (f(xu)*(xl-xu))/(f(xl)-f(xu))\n",
    "fxl = f(xl)\n",
    "print(fxl)"
   ]
  },
  {
   "cell_type": "code",
   "execution_count": 4,
   "metadata": {},
   "outputs": [
    {
     "name": "stdout",
     "output_type": "stream",
     "text": [
      "[14.815076015455954, 0.7815921896799651]\n",
      "[14.802632653525668, 0.08406181671557056]\n"
     ]
    }
   ],
   "source": [
    "ea = 1\n",
    "while ea > es:\n",
    "    xr_old = xr\n",
    "    fxl = f(xl)\n",
    "    fxr = f(xr)\n",
    "    if fxl*fxr < 0:\n",
    "        xu = xr\n",
    "    elif fxl*fxr > 0:\n",
    "        xl = xr\n",
    "    xr = xr = xu - (f(xu)*(xl-xu))/(f(xl)-f(xu))    \n",
    "    ea = abs((xr - xr_old)/xr)*100\n",
    "    print([xr, ea])"
   ]
  },
  {
   "cell_type": "code",
   "execution_count": null,
   "metadata": {},
   "outputs": [],
   "source": []
  }
 ],
 "metadata": {
  "kernelspec": {
   "display_name": "Python 3",
   "language": "python",
   "name": "python3"
  },
  "language_info": {
   "codemirror_mode": {
    "name": "ipython",
    "version": 3
   },
   "file_extension": ".py",
   "mimetype": "text/x-python",
   "name": "python",
   "nbconvert_exporter": "python",
   "pygments_lexer": "ipython3",
   "version": "3.12.6"
  }
 },
 "nbformat": 4,
 "nbformat_minor": 4
}
